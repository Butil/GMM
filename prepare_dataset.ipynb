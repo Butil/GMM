{
 "cells": [
  {
   "cell_type": "code",
   "execution_count": 2,
   "metadata": {},
   "outputs": [],
   "source": [
    "import numpy as np\n",
    "import cv2\n",
    "import os"
   ]
  },
  {
   "cell_type": "code",
   "execution_count": 3,
   "metadata": {},
   "outputs": [],
   "source": [
    "def crop(img, y, x, h, w):\n",
    "    return img[y:y+h, x:x+w]"
   ]
  },
  {
   "cell_type": "code",
   "execution_count": 4,
   "metadata": {},
   "outputs": [],
   "source": [
    "def save_cropped(name, img, h, w):\n",
    "    center = np.array(img.shape)/2 - np.array([h, w])/2\n",
    "    j = 1\n",
    "    for yshift in [-1, 0, 1]:\n",
    "        for xshift in [-1, 0, 1]:\n",
    "            cropped_img = crop(img, center[0] + yshift*h, center[1] + xshift*w, h, w)\n",
    "            cv2.imwrite(name[0:-4] + '_' + str(j) + '.tif', cropped_img)\n",
    "            j += 1"
   ]
  },
  {
   "cell_type": "code",
   "execution_count": null,
   "metadata": {},
   "outputs": [],
   "source": [
    "# create cropped grayscale images and divide them into training and testing sets\n",
    "DatasetPath = '../DataSet/'\n",
    "IL = [f for f in os.listdir(DatasetPath) if os.path.isfile(DatasetPath + f)]\n",
    "perm = np.random.permutation(len(IL))\n",
    "h = 512 # new height\n",
    "w = 512 # new width\n",
    "TST_DIR = DatasetPath + 'ORI_TST/'\n",
    "TRN_DIR = DatasetPath + 'ORI_TRN/'\n",
    "if not os.path.exists(TST_DIR):\n",
    "    os.makedirs(TST_DIR)\n",
    "if not os.path.exists(TRN_DIR):\n",
    "    os.makedirs(TRN_DIR)\n",
    "\n",
    "# testing set\n",
    "for name in range(len(perm)/2):\n",
    "    # load image in grayscale\n",
    "    img = cv2.imread(DatasetPath + IL[perm[name]], 0)\n",
    "    save_cropped(TST_DIR + IL[perm[name]], img, h, w)\n",
    "    \n",
    "\n",
    "# training set\n",
    "for name in range(len(perm)/2, len(perm)):\n",
    "    img = cv2.imread(DatasetPath + IL[perm[name]], 0)\n",
    "    save_cropped(TRN_DIR + IL[perm[name]], img, h, w)"
   ]
  },
  {
   "cell_type": "code",
   "execution_count": 6,
   "metadata": {},
   "outputs": [],
   "source": [
    "def GF(name, img, ws, sigma):\n",
    "    cv2.imwrite(name, cv2.GaussianBlur(img, (ws, ws), sigma))"
   ]
  },
  {
   "cell_type": "code",
   "execution_count": 7,
   "metadata": {},
   "outputs": [],
   "source": [
    "def JPG(name, img, quality):\n",
    "    cv2.imwrite(name[:-3] + 'jpg', img, [cv2.IMWRITE_JPEG_QUALITY, quality])"
   ]
  },
  {
   "cell_type": "code",
   "execution_count": 8,
   "metadata": {},
   "outputs": [],
   "source": [
    "def MF(name, img, ws):\n",
    "    cv2.imwrite(name, cv2.medianBlur(img, ws))"
   ]
  },
  {
   "cell_type": "code",
   "execution_count": 9,
   "metadata": {},
   "outputs": [],
   "source": [
    "def RS(name, img, size):\n",
    "    cv2.imwrite(name, cv2.resize(img, (0,0), fx=size, fy=size, interpolation = cv2.INTER_CUBIC))"
   ]
  },
  {
   "cell_type": "code",
   "execution_count": 10,
   "metadata": {},
   "outputs": [],
   "source": [
    "def USM(name, img, ws, sigma):\n",
    "    blurred = cv2.GaussianBlur(img, (ws, ws), sigma)\n",
    "    cv2.imwrite(name, 1.5*img - 0.5*blurred)"
   ]
  },
  {
   "cell_type": "code",
   "execution_count": 11,
   "metadata": {},
   "outputs": [],
   "source": [
    "def WGN(name, img, std):\n",
    "    AWGN = np.random.normal(scale=std, size=img.shape)\n",
    "    cv2.imwrite(name, img + AWGN)"
   ]
  },
  {
   "cell_type": "code",
   "execution_count": 9,
   "metadata": {},
   "outputs": [],
   "source": [
    "# create manipulated images\n",
    "DatasetPath = '../DataSet/'\n",
    "TST_DIR = DatasetPath + 'ORI_TST/'\n",
    "TRN_DIR = DatasetPath + 'ORI_TRN/'\n",
    "GFPath = DatasetPath + 'GF/'\n",
    "JPGPath = DatasetPath + 'JPG/'\n",
    "MFPath = DatasetPath + 'MF/'\n",
    "RSPath = DatasetPath + 'RS/'\n",
    "USMPath = DatasetPath + 'USM/'\n",
    "WGNPath = DatasetPath + 'WGN/'\n",
    "window_size = 3\n",
    "sigma = 0.5\n",
    "jpg_quality = 90\n",
    "resize_factor = 0.8\n",
    "std = 2\n",
    "\n",
    "\n",
    "for ORI_DIR in [TST_DIR, TRN_DIR]:\n",
    "    FLAG = ORI_DIR[-4:]\n",
    "    if not os.path.exists(GFPath + FLAG):\n",
    "        os.makedirs(GFPath + FLAG)\n",
    "    if not os.path.exists(JPGPath + FLAG):\n",
    "        os.makedirs(JPGPath + FLAG)\n",
    "    if not os.path.exists(MFPath + FLAG):\n",
    "        os.makedirs(MFPath + FLAG)\n",
    "    if not os.path.exists(RSPath + FLAG):\n",
    "        os.makedirs(RSPath + FLAG)\n",
    "    if not os.path.exists(USMPath + FLAG):\n",
    "        os.makedirs(USMPath + FLAG)\n",
    "    if not os.path.exists(WGNPath + FLAG):\n",
    "        os.makedirs(WGNPath + FLAG)\n",
    "    \n",
    "    IL = os.listdir(ORI_DIR)\n",
    "    for name in IL:\n",
    "        img = cv2.imread(ORI_DIR + name, 0)\n",
    "        GF(GFPath + FLAG + name, img, window_size, sigma)\n",
    "        JPG(JPGPath + FLAG + name, img, jpg_quality)\n",
    "        MF(MFPath + FLAG + name, img, window_size)\n",
    "        RS(RSPath + FLAG + name, img, resize_factor)\n",
    "        USM(USMPath + FLAG + name, img, window_size, sigma)\n",
    "        WGN(WGNPath + FLAG + name, img, std)"
   ]
  },
  {
   "cell_type": "code",
   "execution_count": null,
   "metadata": {},
   "outputs": [],
   "source": []
  }
 ],
 "metadata": {
  "kernelspec": {
   "display_name": "Python 2",
   "language": "python",
   "name": "python2"
  },
  "language_info": {
   "codemirror_mode": {
    "name": "ipython",
    "version": 2
   },
   "file_extension": ".py",
   "mimetype": "text/x-python",
   "name": "python",
   "nbconvert_exporter": "python",
   "pygments_lexer": "ipython2",
   "version": "2.7.14"
  }
 },
 "nbformat": 4,
 "nbformat_minor": 2
}
