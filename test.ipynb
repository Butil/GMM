{
 "cells": [
  {
   "cell_type": "code",
   "execution_count": 1,
   "metadata": {
    "collapsed": true
   },
   "outputs": [],
   "source": [
    "import numpy as np\n",
    "import cv2\n",
    "import os\n",
    "from sklearn.externals import joblib\n",
    "from __future__ import division\n",
    "from pomegranate import *\n",
    "import time"
   ]
  },
  {
   "cell_type": "code",
   "execution_count": 2,
   "metadata": {
    "collapsed": true
   },
   "outputs": [],
   "source": [
    "def load_model(processing, block_size):\n",
    "    GMM = joblib.load('../Models/pomegranate/' + str(block_size) + '/GMM_' + processing + '.pkl', 'r')\n",
    "    return GMM"
   ]
  },
  {
   "cell_type": "code",
   "execution_count": 8,
   "metadata": {
    "collapsed": true
   },
   "outputs": [],
   "source": [
    "def load_patches(processing, block_size, name):\n",
    "    patches = joblib.load('../Patches/' + str(block_size) + '/' + processing + '/TST/' + name, 'r')\n",
    "    return patches"
   ]
  },
  {
   "cell_type": "code",
   "execution_count": 6,
   "metadata": {
    "collapsed": true
   },
   "outputs": [],
   "source": [
    "def get_acc(processing, im_size):\n",
    "    TST_DIR = '../DataSet/' + str(im_size) + '/' + processing + '/TST/'\n",
    "    images = os.listdir(TST_DIR)\n",
    "    GMM = load_model(processing, im_size)\n",
    "    GMM_unprocessed = load_model('ORI', im_size)\n",
    "    acc = 0.\n",
    "    for name in images:\n",
    "        patches = load_patches(processing, im_size, name)\n",
    "        processed_likelihood = np.sum(GMM.log_probability(patches))\n",
    "        unprocessed_likelihood = np.sum((GMM_unprocessed.log_probability(patches)))\n",
    "        if processed_likelihood > unprocessed_likelihood:\n",
    "            acc += 1\n",
    "    return acc/len(images)"
   ]
  },
  {
   "cell_type": "code",
   "execution_count": 8,
   "metadata": {},
   "outputs": [
    {
     "name": "stdout",
     "output_type": "stream",
     "text": [
      "Image size \tprocessing \taccuracy \ttime\n",
      "512 \t\tGF \t99.2239% \t9790.53s\n",
      "512 \t\tJPG \t99.9183% \t9786.50s\n",
      "512 \t\tMF \t100.0000% \t9903.19s\n",
      "512 \t\tRS \t96.8546% \t6302.68s\n",
      "512 \t\tUSM \t67.0343% \t9871.26s\n",
      "512 \t\tWGN \t94.6078% \t9901.86s\n",
      "32 \t\tGF \t90.3595% \t3894.38s\n",
      "32 \t\tJPG \t91.8791% \t3933.76s\n",
      "32 \t\tMF \t99.8284% \t3921.18s\n",
      "32 \t\tRS \t95.3309% \t3915.30s\n",
      "32 \t\tUSM \t68.1413% \t4157.83s\n",
      "32 \t\tWGN \t89.4894% \t4182.72s\n"
     ]
    }
   ],
   "source": [
    "processings = ['GF', 'JPG', 'MF', 'RS', 'USM', 'WGN']\n",
    "im_sizes = [512, 32]\n",
    "print(\"Image size \\tprocessing \\taccuracy \\ttime\")\n",
    "for im_size in im_sizes:\n",
    "    for processing in processings:\n",
    "        start = time.time()\n",
    "        acc = get_acc(processing, im_size)\n",
    "        end = time.time()\n",
    "        print(\"{} \\t\\t{} \\t\\t{:.4f}% \\t{:.2f}s\".format(\n",
    "            im_size, processing, 100 * acc, end-start))"
   ]
  },
  {
   "cell_type": "code",
   "execution_count": null,
   "metadata": {
    "collapsed": true
   },
   "outputs": [],
   "source": []
  }
 ],
 "metadata": {
  "kernelspec": {
   "display_name": "Python 2",
   "language": "python",
   "name": "python2"
  },
  "language_info": {
   "codemirror_mode": {
    "name": "ipython",
    "version": 2
   },
   "file_extension": ".py",
   "mimetype": "text/x-python",
   "name": "python",
   "nbconvert_exporter": "python",
   "pygments_lexer": "ipython2",
   "version": "2.7.14"
  }
 },
 "nbformat": 4,
 "nbformat_minor": 2
}
