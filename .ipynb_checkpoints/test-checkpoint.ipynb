{
 "cells": [
  {
   "cell_type": "code",
   "execution_count": 1,
   "metadata": {},
   "outputs": [],
   "source": [
    "import numpy as np\n",
    "import cv2\n",
    "import os\n",
    "from sklearn import mixture as mix\n",
    "from sklearn.externals import joblib\n",
    "from __future__ import division"
   ]
  },
  {
   "cell_type": "code",
   "execution_count": 2,
   "metadata": {},
   "outputs": [],
   "source": [
    "def load_params(processing, block_size):\n",
    "    GMM = joblib.load('../Models/' + str(block_size) + '/GMM_' + processing + '_final.pkl')\n",
    "    return {'weights': GMM.weights_, 'means': GMM.means_, 'covariances': GMM.covariances_}"
   ]
  },
  {
   "cell_type": "code",
   "execution_count": 3,
   "metadata": {},
   "outputs": [],
   "source": [
    "def log_pdf(x, mean, cov_mat):\n",
    "    det = np.linalg.det(cov_mat)\n",
    "    if det == 0:\n",
    "        return -100 #this is very ad-hoc\n",
    "    dim = len(mean)\n",
    "    p = -np.matmul(np.matmul((x-mean), np.linalg.inv(cov_mat)), (x-mean).T) / 2\n",
    "    p -= np.log((2 *np.pi)**dim * det) / 2\n",
    "    return p"
   ]
  },
  {
   "cell_type": "code",
   "execution_count": 4,
   "metadata": {},
   "outputs": [],
   "source": [
    "def log_likelihood(im_block,  params):\n",
    "    L = 0\n",
    "    for i in range(len(params['weights'])):\n",
    "        L += log_pdf(im_block, params['means'][i], params['covariances'][i]) + np.log(params['weights'][i])\n",
    "    return L"
   ]
  },
  {
   "cell_type": "code",
   "execution_count": 5,
   "metadata": {},
   "outputs": [],
   "source": [
    "def get_patch(im, b, v, h):\n",
    "    return np.ravel(im[v:v + b, h:h+b])"
   ]
  },
  {
   "cell_type": "code",
   "execution_count": 6,
   "metadata": {},
   "outputs": [],
   "source": [
    "def image_likelihood(im, params, patch_size=8):\n",
    "    L = 0\n",
    "    for i in range(im.shape[0] - patch_size + 1):\n",
    "        for j in range(im.shape[1] - patch_size + 1):\n",
    "            patch = get_patch(im, patch_size, i, j)\n",
    "            L += log_likelihood(patch, params)\n",
    "    return L/((i+1)*(j+1))"
   ]
  },
  {
   "cell_type": "code",
   "execution_count": 12,
   "metadata": {},
   "outputs": [],
   "source": [
    "def get_acc(processing, im_size):\n",
    "    TST_DIR = '../DataSet/' + str(im_size) + '/' + processing + '/TST/'\n",
    "    images = os.listdir(TST_DIR)\n",
    "    params = load_params(processing, im_size)\n",
    "    params_unprocessed = load_params('ORI', im_size)\n",
    "    acc = 0\n",
    "    for name in images:\n",
    "        im = cv2.imread(TST_DIR + name, 0)\n",
    "        processed_likelihood = image_likelihood(im, params)\n",
    "        unprocessed_likelihood = image_likelihood(im, params_unprocessed)\n",
    "        if processed_likelihood > unprocessed_likelihood:\n",
    "            acc += 1\n",
    "    return acc/len(images)"
   ]
  },
  {
   "cell_type": "code",
   "execution_count": null,
   "metadata": {},
   "outputs": [],
   "source": [
    "im_sizes = [16, 32, 512]\n",
    "processings = ['GF', 'JPG', 'MF', 'RS', 'USM', 'WGN']\n",
    "for im_size in im_sizes:\n",
    "    for processing in processings:\n",
    "        acc = get_acc(processing, im_size)\n",
    "        print 'Accuracy for image size', im_size, ', processed by', processing, 'is:', acc"
   ]
  },
  {
   "cell_type": "code",
   "execution_count": null,
   "metadata": {},
   "outputs": [],
   "source": []
  }
 ],
 "metadata": {
  "kernelspec": {
   "display_name": "Python 2",
   "language": "python",
   "name": "python2"
  },
  "language_info": {
   "codemirror_mode": {
    "name": "ipython",
    "version": 2
   },
   "file_extension": ".py",
   "mimetype": "text/x-python",
   "name": "python",
   "nbconvert_exporter": "python",
   "pygments_lexer": "ipython2",
   "version": "2.7.14"
  }
 },
 "nbformat": 4,
 "nbformat_minor": 2
}
